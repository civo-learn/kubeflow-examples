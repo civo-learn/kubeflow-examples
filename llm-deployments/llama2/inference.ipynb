{
 "cells": [
  {
   "cell_type": "code",
   "execution_count": 1,
   "id": "689db7c2-3e98-46ca-9f3c-0a51e0f9f2da",
   "metadata": {},
   "outputs": [],
   "source": [
    "`!pip install -q kserve`"
   ]
  },
  {
   "cell_type": "code",
   "execution_count": 2,
   "id": "5e9d4d41-5df8-40ee-bac4-63ae80992876",
   "metadata": {},
   "outputs": [],
   "source": [
    "import argparse\n",
    "from kserve import KServeClient\n",
    "import requests"
   ]
  },
  {
   "cell_type": "markdown",
   "id": "77f4a677-c6e1-4fa0-9c46-18242d8022f4",
   "metadata": {},
   "source": [
    "## Verify the serving URL"
   ]
  },
  {
   "cell_type": "code",
   "execution_count": 3,
   "id": "077a36d1-324a-4cb1-a169-50ffa3a38808",
   "metadata": {},
   "outputs": [
    {
     "name": "stdout",
     "output_type": "stream",
     "text": [
      "Make an API call to: http://llama2.my-profile.svc.cluster.local/v1/models/llama2:predict\n"
     ]
    }
   ],
   "source": [
    "KServe = KServeClient()\n",
    "namespace = \"my-profile\"\n",
    "isvc_resp = KServe.get(\"llama2\", namespace=namespace)\n",
    "isvc_url = isvc_resp[\"status\"][\"address\"][\"url\"]\n",
    "\n",
    "print(f\"Make an API call to: {isvc_url}\")"
   ]
  },
  {
   "cell_type": "markdown",
   "id": "430e8298-2331-415d-9c25-c6cdaa2a69bf",
   "metadata": {},
   "source": [
    "## Call the LLM"
   ]
  },
  {
   "cell_type": "code",
   "execution_count": 5,
   "id": "7617a5aa-0cda-4f6b-8ef9-6ad3adb6389c",
   "metadata": {},
   "outputs": [
    {
     "name": "stdout",
     "output_type": "stream",
     "text": [
      "\n",
      "\n",
      "Step 1: I had 10 apples initially.\n",
      "\n",
      "Step 2: I gave 2 apples to the neighbor, so now I have 10 - 2 = 8 apples left.\n",
      "\n",
      "Step 3: I gave 2 apples to the repairman, so now I have 8 - 2 = 6 apples left.\n",
      "\n",
      "Step 4: I bought 5 more apples, so now I have 6 + 5 = 11 apples.\n",
      "\n",
      "Step 5: I ate 1 apple, so now I have 11 - 1 = 10 apples left.\n",
      "\n",
      "Therefore, I remained with 10 apples after buying more and eating one.\n"
     ]
    }
   ],
   "source": [
    "response = requests.post(\n",
    "    f\"http://llama2.my-profile.svc.cluster.local/v1/models/serving:predict\",\n",
    "    json={\"prompt\": \"I went to the market and bought 10 apples. I gave 2 apples to the neighbor and 2 to the repairman. I then went and bought 5 more apples and ate 1. How many apples did I remain with? Let's think step by step.\", \"stream\": \"True\"},\n",
    ")\n",
    "\n",
    "print(response.text)"
   ]
  }
 ],
 "metadata": {
  "kernelspec": {
   "display_name": "Python 3 (ipykernel)",
   "language": "python",
   "name": "python3"
  },
  "language_info": {
   "codemirror_mode": {
    "name": "ipython",
    "version": 3
   },
   "file_extension": ".py",
   "mimetype": "text/x-python",
   "name": "python",
   "nbconvert_exporter": "python",
   "pygments_lexer": "ipython3",
   "version": "3.8.10"
  }
 },
 "nbformat": 4,
 "nbformat_minor": 5
}
